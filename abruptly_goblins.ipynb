{
 "cells": [
  {
   "cell_type": "code",
   "execution_count": 2,
   "id": "909ee8d0-4a21-4c58-a160-697a30b2d362",
   "metadata": {},
   "outputs": [],
   "source": [
    "def add_gamer(gamer, gamers_list):\n",
    "    \n",
    "    if 'name' and 'availability' not in gamer:\n",
    "        print(\"Invalid dictionary input\")\n",
    "        return gamers_list\n",
    "    \n",
    "    gamers_list.append(gamer)\n",
    "    return gamers_list\n",
    "\n",
    "def build_daily_frequency_table(gamers_list):\n",
    "    daily_frequency_table = {\n",
    "        'Monday'    : 0,\n",
    "        'Tuesday'   : 0,\n",
    "        'Wednesday' : 0,\n",
    "        'Thursday'  : 0,\n",
    "        'Friday'    : 0,\n",
    "        'Saturday'  : 0,\n",
    "        'Sunday'    : 0\n",
    "    }\n",
    "\n",
    "    for gamer in gamers_list:\n",
    "        for day in gamer['availability']:\n",
    "            daily_frequency_table[day] += 1\n",
    "\n",
    "    return daily_frequency_table\n",
    "\n",
    "def find_best_night(availability_table):\n",
    "    best_day = (\"\", 0)\n",
    "    \n",
    "    for key, value in availability_table.items():\n",
    "        if value > best_day[1]:\n",
    "            best_day = (key, value)\n",
    "\n",
    "    return best_day\n",
    "\n",
    "def available_on_night(gamers_list, day):\n",
    "    attending_game_night = []\n",
    "    \n",
    "    for gamer in gamers_list:\n",
    "        if day[0] in gamer['availability']:\n",
    "            attending_game_night.append(gamer['name'])\n",
    "\n",
    "    return attending_game_night\n",
    "\n",
    "def send_email(gamers_who_can_attend, day, game_title):\n",
    "    for gamer in gamers_who_can_attend:\n",
    "        print(f\"Hello {gamer}, we will be playing {game_title} on {day}\")\n",
    "\n",
    "def find_second_best_night(first_game_night, availability_table):\n",
    "    second_best_day = (\"\", 0)\n",
    "\n",
    "    for key, value in availability_table.items():\n",
    "        if key == first_game_night[0]:\n",
    "            continue\n",
    "        if value > second_best_day[1]:\n",
    "            second_best_day = (key, value)\n",
    "\n",
    "    return second_best_day"
   ]
  },
  {
   "cell_type": "code",
   "execution_count": 3,
   "id": "c825e7c4-7714-4854-b143-566b9de29b42",
   "metadata": {},
   "outputs": [],
   "source": [
    "gamers = []\n",
    "\n",
    "add_gamer({\"name\": \"Kimberly Warner\",\"availability\" : [\"Monday\", \"Tuesday\", \"Friday\"]}, gamers)\n",
    "add_gamer({'name':'Thomas Nelson','availability': [\"Tuesday\", \"Thursday\", \"Saturday\"]}, gamers)\n",
    "add_gamer({'name':'Joyce Sellers','availability': [\"Monday\", \"Wednesday\", \"Friday\", \"Saturday\"]}, gamers)\n",
    "add_gamer({'name':'Michelle Reyes','availability': [\"Wednesday\", \"Thursday\", \"Sunday\"]}, gamers)\n",
    "add_gamer({'name':'Stephen Adams','availability': [\"Thursday\", \"Saturday\"]}, gamers)\n",
    "add_gamer({'name': 'Joanne Lynn', 'availability': [\"Monday\", \"Thursday\"]}, gamers)\n",
    "add_gamer({'name':'Latasha Bryan','availability': [\"Monday\", \"Sunday\"]}, gamers)\n",
    "add_gamer({'name':'Crystal Brewer','availability': [\"Thursday\", \"Friday\", \"Saturday\"]}, gamers)\n",
    "add_gamer({'name':'James Barnes Jr.','availability': [\"Tuesday\", \"Wednesday\", \"Thursday\", \"Sunday\"]}, gamers)\n",
    "add_gamer({'name':'Michel Trujillo','availability': [\"Monday\", \"Tuesday\", \"Wednesday\"]}, gamers)\n",
    "\n",
    "availability_table = build_daily_frequency_table(gamers)\n",
    "\n",
    "game_night = find_best_night(availability_table)\n",
    "attending_game_night = available_on_night(gamers, game_night)\n",
    "\n",
    "second_game_night = find_second_best_night(game_night, availability_table)\n",
    "attending_second_game_night = available_on_night(gamers, second_game_night)"
   ]
  },
  {
   "cell_type": "code",
   "execution_count": 4,
   "id": "2657b2a6-0273-4e4e-a9d7-4cbc3e61dc7d",
   "metadata": {},
   "outputs": [
    {
     "name": "stdout",
     "output_type": "stream",
     "text": [
      "Hello Thomas Nelson, we will be playing Abruptly Goblins! on Thursday\n",
      "Hello Michelle Reyes, we will be playing Abruptly Goblins! on Thursday\n",
      "Hello Stephen Adams, we will be playing Abruptly Goblins! on Thursday\n",
      "Hello Joanne Lynn, we will be playing Abruptly Goblins! on Thursday\n",
      "Hello Crystal Brewer, we will be playing Abruptly Goblins! on Thursday\n",
      "Hello James Barnes Jr., we will be playing Abruptly Goblins! on Thursday\n"
     ]
    }
   ],
   "source": [
    "send_email(attending_game_night, game_night[0], \"Abruptly Goblins!\")"
   ]
  },
  {
   "cell_type": "code",
   "execution_count": 5,
   "id": "5fc9542d-8565-425b-b9f9-f1d13803060e",
   "metadata": {},
   "outputs": [
    {
     "name": "stdout",
     "output_type": "stream",
     "text": [
      "Hello Kimberly Warner, we will be playing Abruptly Goblins! on Monday\n",
      "Hello Joyce Sellers, we will be playing Abruptly Goblins! on Monday\n",
      "Hello Joanne Lynn, we will be playing Abruptly Goblins! on Monday\n",
      "Hello Latasha Bryan, we will be playing Abruptly Goblins! on Monday\n",
      "Hello Michel Trujillo, we will be playing Abruptly Goblins! on Monday\n"
     ]
    }
   ],
   "source": [
    "send_email(attending_second_game_night, second_game_night[0], \"Abruptly Goblins!\")"
   ]
  },
  {
   "cell_type": "code",
   "execution_count": null,
   "id": "a46d6b6c-d5a9-46b0-9c65-d2a20ec112e4",
   "metadata": {},
   "outputs": [],
   "source": []
  }
 ],
 "metadata": {
  "kernelspec": {
   "display_name": "Python 3 (ipykernel)",
   "language": "python",
   "name": "python3"
  },
  "language_info": {
   "codemirror_mode": {
    "name": "ipython",
    "version": 3
   },
   "file_extension": ".py",
   "mimetype": "text/x-python",
   "name": "python",
   "nbconvert_exporter": "python",
   "pygments_lexer": "ipython3",
   "version": "3.12.9"
  }
 },
 "nbformat": 4,
 "nbformat_minor": 5
}
